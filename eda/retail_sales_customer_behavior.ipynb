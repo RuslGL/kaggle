{
 "cells": [
  {
   "cell_type": "markdown",
   "id": "4507ba4e-b95a-4dcf-8442-f898c079457d",
   "metadata": {},
   "source": [
    "# CONTENT\n",
    "\n",
    "[1](#1) Импорты и загрузка данных <br>\n",
    "[2](#2) Первоначальное знакомство с данными <br>\n",
    "[3](#3) Изучение разделенных данных <br>\n",
    "[3.1](#3.1) Изучение данных о потребителях <br>\n",
    "\n",
    "[LINKS](#LINKS)"
   ]
  },
  {
   "cell_type": "markdown",
   "id": "459191de-acfd-414a-b155-3970a6a6422e",
   "metadata": {},
   "source": [
    "# 1 \n",
    "[CONTENT](#CONTENT)<br>"
   ]
  },
  {
   "cell_type": "markdown",
   "id": "8791158f-b567-428e-91a0-7e59285b355e",
   "metadata": {},
   "source": [
    "# Импорты и загрузка данных"
   ]
  },
  {
   "cell_type": "code",
   "execution_count": 37,
   "id": "f579b30e-e7f8-41c1-955e-11561dcd3e48",
   "metadata": {},
   "outputs": [],
   "source": [
    "from warnings import filterwarnings\n",
    "\n",
    "import gc # для освобождения памяти путем принудительно вызова garbage collector\n",
    "\n",
    "import pandas as pd\n",
    "\n",
    "\n",
    "pd.set_option('display.max_columns', None)\n",
    "filterwarnings('ignore')"
   ]
  },
  {
   "cell_type": "code",
   "execution_count": 38,
   "id": "ee9d442c-774d-46a5-aab8-7686cd1e4478",
   "metadata": {
    "scrolled": true
   },
   "outputs": [
    {
     "data": {
      "text/html": [
       "<div>\n",
       "<style scoped>\n",
       "    .dataframe tbody tr th:only-of-type {\n",
       "        vertical-align: middle;\n",
       "    }\n",
       "\n",
       "    .dataframe tbody tr th {\n",
       "        vertical-align: top;\n",
       "    }\n",
       "\n",
       "    .dataframe thead th {\n",
       "        text-align: right;\n",
       "    }\n",
       "</style>\n",
       "<table border=\"1\" class=\"dataframe\">\n",
       "  <thead>\n",
       "    <tr style=\"text-align: right;\">\n",
       "      <th></th>\n",
       "      <th>customer_id</th>\n",
       "      <th>age</th>\n",
       "      <th>gender</th>\n",
       "      <th>income_bracket</th>\n",
       "      <th>loyalty_program</th>\n",
       "      <th>membership_years</th>\n",
       "      <th>churned</th>\n",
       "      <th>marital_status</th>\n",
       "      <th>number_of_children</th>\n",
       "      <th>education_level</th>\n",
       "      <th>occupation</th>\n",
       "      <th>transaction_id</th>\n",
       "      <th>transaction_date</th>\n",
       "      <th>product_id</th>\n",
       "      <th>product_category</th>\n",
       "      <th>quantity</th>\n",
       "      <th>unit_price</th>\n",
       "      <th>discount_applied</th>\n",
       "      <th>payment_method</th>\n",
       "      <th>store_location</th>\n",
       "      <th>transaction_hour</th>\n",
       "      <th>day_of_week</th>\n",
       "      <th>week_of_year</th>\n",
       "      <th>month_of_year</th>\n",
       "      <th>avg_purchase_value</th>\n",
       "      <th>purchase_frequency</th>\n",
       "      <th>last_purchase_date</th>\n",
       "      <th>avg_discount_used</th>\n",
       "      <th>preferred_store</th>\n",
       "      <th>online_purchases</th>\n",
       "      <th>in_store_purchases</th>\n",
       "      <th>avg_items_per_transaction</th>\n",
       "      <th>avg_transaction_value</th>\n",
       "      <th>total_returned_items</th>\n",
       "      <th>total_returned_value</th>\n",
       "      <th>total_sales</th>\n",
       "      <th>total_transactions</th>\n",
       "      <th>total_items_purchased</th>\n",
       "      <th>total_discounts_received</th>\n",
       "      <th>avg_spent_per_category</th>\n",
       "      <th>max_single_purchase_value</th>\n",
       "      <th>min_single_purchase_value</th>\n",
       "      <th>product_name</th>\n",
       "      <th>product_brand</th>\n",
       "      <th>product_rating</th>\n",
       "      <th>product_review_count</th>\n",
       "      <th>product_stock</th>\n",
       "      <th>product_return_rate</th>\n",
       "      <th>product_size</th>\n",
       "      <th>product_weight</th>\n",
       "      <th>product_color</th>\n",
       "      <th>product_material</th>\n",
       "      <th>product_manufacture_date</th>\n",
       "      <th>product_expiry_date</th>\n",
       "      <th>product_shelf_life</th>\n",
       "      <th>promotion_id</th>\n",
       "      <th>promotion_type</th>\n",
       "      <th>promotion_start_date</th>\n",
       "      <th>promotion_end_date</th>\n",
       "      <th>promotion_effectiveness</th>\n",
       "      <th>promotion_channel</th>\n",
       "      <th>promotion_target_audience</th>\n",
       "      <th>customer_zip_code</th>\n",
       "      <th>customer_city</th>\n",
       "      <th>customer_state</th>\n",
       "      <th>store_zip_code</th>\n",
       "      <th>store_city</th>\n",
       "      <th>store_state</th>\n",
       "      <th>distance_to_store</th>\n",
       "      <th>holiday_season</th>\n",
       "      <th>season</th>\n",
       "      <th>weekend</th>\n",
       "      <th>customer_support_calls</th>\n",
       "      <th>email_subscriptions</th>\n",
       "      <th>app_usage</th>\n",
       "      <th>website_visits</th>\n",
       "      <th>social_media_engagement</th>\n",
       "      <th>days_since_last_purchase</th>\n",
       "    </tr>\n",
       "  </thead>\n",
       "  <tbody>\n",
       "    <tr>\n",
       "      <th>0</th>\n",
       "      <td>1</td>\n",
       "      <td>56</td>\n",
       "      <td>Other</td>\n",
       "      <td>High</td>\n",
       "      <td>No</td>\n",
       "      <td>0</td>\n",
       "      <td>No</td>\n",
       "      <td>Divorced</td>\n",
       "      <td>3</td>\n",
       "      <td>Bachelor's</td>\n",
       "      <td>Self-Employed</td>\n",
       "      <td>503290</td>\n",
       "      <td>2020-10-11 10:08:52</td>\n",
       "      <td>1480</td>\n",
       "      <td>Electronics</td>\n",
       "      <td>8</td>\n",
       "      <td>49.72</td>\n",
       "      <td>0.50</td>\n",
       "      <td>Credit Card</td>\n",
       "      <td>Location A</td>\n",
       "      <td>18</td>\n",
       "      <td>Wednesday</td>\n",
       "      <td>27</td>\n",
       "      <td>7</td>\n",
       "      <td>411.13</td>\n",
       "      <td>Weekly</td>\n",
       "      <td>2021-09-11 04:22:38</td>\n",
       "      <td>0.02</td>\n",
       "      <td>Location A</td>\n",
       "      <td>55</td>\n",
       "      <td>86</td>\n",
       "      <td>8.64</td>\n",
       "      <td>171.83</td>\n",
       "      <td>0</td>\n",
       "      <td>750.4</td>\n",
       "      <td>563.16</td>\n",
       "      <td>69</td>\n",
       "      <td>367</td>\n",
       "      <td>415.01</td>\n",
       "      <td>114.28</td>\n",
       "      <td>679.25</td>\n",
       "      <td>0.28</td>\n",
       "      <td>Product D</td>\n",
       "      <td>Brand Y</td>\n",
       "      <td>2.5</td>\n",
       "      <td>560</td>\n",
       "      <td>48</td>\n",
       "      <td>0.4</td>\n",
       "      <td>Small</td>\n",
       "      <td>4.61</td>\n",
       "      <td>Red</td>\n",
       "      <td>Metal</td>\n",
       "      <td>2019-08-04 01:47:01</td>\n",
       "      <td>2022-05-28 14:54:02</td>\n",
       "      <td>250</td>\n",
       "      <td>271</td>\n",
       "      <td>20% Off</td>\n",
       "      <td>2021-07-14 14:28:42</td>\n",
       "      <td>2022-12-30 13:04:13</td>\n",
       "      <td>High</td>\n",
       "      <td>Online</td>\n",
       "      <td>New Customers</td>\n",
       "      <td>37848</td>\n",
       "      <td>City D</td>\n",
       "      <td>State Y</td>\n",
       "      <td>88500</td>\n",
       "      <td>City D</td>\n",
       "      <td>State Y</td>\n",
       "      <td>33.21</td>\n",
       "      <td>No</td>\n",
       "      <td>Spring</td>\n",
       "      <td>Yes</td>\n",
       "      <td>5</td>\n",
       "      <td>No</td>\n",
       "      <td>High</td>\n",
       "      <td>30</td>\n",
       "      <td>High</td>\n",
       "      <td>40</td>\n",
       "    </tr>\n",
       "    <tr>\n",
       "      <th>1</th>\n",
       "      <td>2</td>\n",
       "      <td>69</td>\n",
       "      <td>Female</td>\n",
       "      <td>Medium</td>\n",
       "      <td>No</td>\n",
       "      <td>2</td>\n",
       "      <td>No</td>\n",
       "      <td>Married</td>\n",
       "      <td>2</td>\n",
       "      <td>PhD</td>\n",
       "      <td>Unemployed</td>\n",
       "      <td>347796</td>\n",
       "      <td>2021-12-08 01:07:40</td>\n",
       "      <td>1597</td>\n",
       "      <td>Groceries</td>\n",
       "      <td>7</td>\n",
       "      <td>817.76</td>\n",
       "      <td>0.32</td>\n",
       "      <td>Credit Card</td>\n",
       "      <td>Location C</td>\n",
       "      <td>15</td>\n",
       "      <td>Friday</td>\n",
       "      <td>20</td>\n",
       "      <td>2</td>\n",
       "      <td>268.71</td>\n",
       "      <td>Daily</td>\n",
       "      <td>2021-05-16 12:01:16</td>\n",
       "      <td>0.33</td>\n",
       "      <td>Location C</td>\n",
       "      <td>48</td>\n",
       "      <td>2</td>\n",
       "      <td>9.60</td>\n",
       "      <td>20.18</td>\n",
       "      <td>4</td>\n",
       "      <td>551.6</td>\n",
       "      <td>7554.57</td>\n",
       "      <td>8</td>\n",
       "      <td>475</td>\n",
       "      <td>801.79</td>\n",
       "      <td>305.95</td>\n",
       "      <td>491.56</td>\n",
       "      <td>4.65</td>\n",
       "      <td>Product C</td>\n",
       "      <td>Brand X</td>\n",
       "      <td>4.7</td>\n",
       "      <td>413</td>\n",
       "      <td>80</td>\n",
       "      <td>0.3</td>\n",
       "      <td>Medium</td>\n",
       "      <td>0.84</td>\n",
       "      <td>Blue</td>\n",
       "      <td>Metal</td>\n",
       "      <td>2019-10-23 19:59:17</td>\n",
       "      <td>2022-12-19 08:04:41</td>\n",
       "      <td>180</td>\n",
       "      <td>631</td>\n",
       "      <td>Flash Sale</td>\n",
       "      <td>2021-09-23 04:26:09</td>\n",
       "      <td>2022-09-13 03:16:26</td>\n",
       "      <td>Low</td>\n",
       "      <td>Social Media</td>\n",
       "      <td>New Customers</td>\n",
       "      <td>44896</td>\n",
       "      <td>City A</td>\n",
       "      <td>State X</td>\n",
       "      <td>30046</td>\n",
       "      <td>City C</td>\n",
       "      <td>State X</td>\n",
       "      <td>62.56</td>\n",
       "      <td>No</td>\n",
       "      <td>Summer</td>\n",
       "      <td>Yes</td>\n",
       "      <td>6</td>\n",
       "      <td>No</td>\n",
       "      <td>High</td>\n",
       "      <td>40</td>\n",
       "      <td>Medium</td>\n",
       "      <td>338</td>\n",
       "    </tr>\n",
       "  </tbody>\n",
       "</table>\n",
       "</div>"
      ],
      "text/plain": [
       "   customer_id  age  gender income_bracket loyalty_program  membership_years  \\\n",
       "0            1   56   Other           High              No                 0   \n",
       "1            2   69  Female         Medium              No                 2   \n",
       "\n",
       "  churned marital_status  number_of_children education_level     occupation  \\\n",
       "0      No       Divorced                   3      Bachelor's  Self-Employed   \n",
       "1      No        Married                   2             PhD     Unemployed   \n",
       "\n",
       "   transaction_id     transaction_date  product_id product_category  quantity  \\\n",
       "0          503290  2020-10-11 10:08:52        1480      Electronics         8   \n",
       "1          347796  2021-12-08 01:07:40        1597        Groceries         7   \n",
       "\n",
       "   unit_price  discount_applied payment_method store_location  \\\n",
       "0       49.72              0.50    Credit Card     Location A   \n",
       "1      817.76              0.32    Credit Card     Location C   \n",
       "\n",
       "   transaction_hour day_of_week  week_of_year  month_of_year  \\\n",
       "0                18   Wednesday            27              7   \n",
       "1                15      Friday            20              2   \n",
       "\n",
       "   avg_purchase_value purchase_frequency   last_purchase_date  \\\n",
       "0              411.13             Weekly  2021-09-11 04:22:38   \n",
       "1              268.71              Daily  2021-05-16 12:01:16   \n",
       "\n",
       "   avg_discount_used preferred_store  online_purchases  in_store_purchases  \\\n",
       "0               0.02      Location A                55                  86   \n",
       "1               0.33      Location C                48                   2   \n",
       "\n",
       "   avg_items_per_transaction  avg_transaction_value  total_returned_items  \\\n",
       "0                       8.64                 171.83                     0   \n",
       "1                       9.60                  20.18                     4   \n",
       "\n",
       "   total_returned_value  total_sales  total_transactions  \\\n",
       "0                 750.4       563.16                  69   \n",
       "1                 551.6      7554.57                   8   \n",
       "\n",
       "   total_items_purchased  total_discounts_received  avg_spent_per_category  \\\n",
       "0                    367                    415.01                  114.28   \n",
       "1                    475                    801.79                  305.95   \n",
       "\n",
       "   max_single_purchase_value  min_single_purchase_value product_name  \\\n",
       "0                     679.25                       0.28    Product D   \n",
       "1                     491.56                       4.65    Product C   \n",
       "\n",
       "  product_brand  product_rating  product_review_count  product_stock  \\\n",
       "0       Brand Y             2.5                   560             48   \n",
       "1       Brand X             4.7                   413             80   \n",
       "\n",
       "   product_return_rate product_size  product_weight product_color  \\\n",
       "0                  0.4        Small            4.61           Red   \n",
       "1                  0.3       Medium            0.84          Blue   \n",
       "\n",
       "  product_material product_manufacture_date  product_expiry_date  \\\n",
       "0            Metal      2019-08-04 01:47:01  2022-05-28 14:54:02   \n",
       "1            Metal      2019-10-23 19:59:17  2022-12-19 08:04:41   \n",
       "\n",
       "   product_shelf_life  promotion_id promotion_type promotion_start_date  \\\n",
       "0                 250           271        20% Off  2021-07-14 14:28:42   \n",
       "1                 180           631     Flash Sale  2021-09-23 04:26:09   \n",
       "\n",
       "    promotion_end_date promotion_effectiveness promotion_channel  \\\n",
       "0  2022-12-30 13:04:13                    High            Online   \n",
       "1  2022-09-13 03:16:26                     Low      Social Media   \n",
       "\n",
       "  promotion_target_audience  customer_zip_code customer_city customer_state  \\\n",
       "0             New Customers              37848        City D        State Y   \n",
       "1             New Customers              44896        City A        State X   \n",
       "\n",
       "   store_zip_code store_city store_state  distance_to_store holiday_season  \\\n",
       "0           88500     City D     State Y              33.21             No   \n",
       "1           30046     City C     State X              62.56             No   \n",
       "\n",
       "   season weekend  customer_support_calls email_subscriptions app_usage  \\\n",
       "0  Spring     Yes                       5                  No      High   \n",
       "1  Summer     Yes                       6                  No      High   \n",
       "\n",
       "   website_visits social_media_engagement  days_since_last_purchase  \n",
       "0              30                    High                        40  \n",
       "1              40                  Medium                       338  "
      ]
     },
     "execution_count": 38,
     "metadata": {},
     "output_type": "execute_result"
    }
   ],
   "source": [
    "df = pd.read_csv('../data/retail_data.csv.zip')\n",
    "df.head(2)"
   ]
  },
  {
   "cell_type": "markdown",
   "id": "e97809f4-4db4-45d4-8f0c-c4dac7fa5104",
   "metadata": {},
   "source": [
    "# 2\n",
    "\n",
    "[CONTENT](#CONTENT)<br>"
   ]
  },
  {
   "cell_type": "markdown",
   "id": "3cbb73dd-d21e-4372-a5dc-e123441b63bc",
   "metadata": {},
   "source": [
    "# Первоначальное знакомство с данными"
   ]
  },
  {
   "cell_type": "markdown",
   "id": "dc169d96-5345-4ae9-962d-a9c243e37c1a",
   "metadata": {},
   "source": [
    "##### Посмотрим общую информацию о данных"
   ]
  },
  {
   "cell_type": "code",
   "execution_count": 48,
   "id": "06e46c47-6aa0-4876-b139-3f314186f4d9",
   "metadata": {
    "scrolled": true
   },
   "outputs": [
    {
     "name": "stdout",
     "output_type": "stream",
     "text": [
      "<class 'pandas.core.frame.DataFrame'>\n",
      "RangeIndex: 1000000 entries, 0 to 999999\n",
      "Data columns (total 78 columns):\n",
      " #   Column                     Non-Null Count    Dtype  \n",
      "---  ------                     --------------    -----  \n",
      " 0   customer_id                1000000 non-null  int64  \n",
      " 1   age                        1000000 non-null  int64  \n",
      " 2   gender                     1000000 non-null  object \n",
      " 3   income_bracket             1000000 non-null  object \n",
      " 4   loyalty_program            1000000 non-null  object \n",
      " 5   membership_years           1000000 non-null  int64  \n",
      " 6   churned                    1000000 non-null  object \n",
      " 7   marital_status             1000000 non-null  object \n",
      " 8   number_of_children         1000000 non-null  int64  \n",
      " 9   education_level            1000000 non-null  object \n",
      " 10  occupation                 1000000 non-null  object \n",
      " 11  transaction_id             1000000 non-null  int64  \n",
      " 12  transaction_date           1000000 non-null  object \n",
      " 13  product_id                 1000000 non-null  int64  \n",
      " 14  product_category           1000000 non-null  object \n",
      " 15  quantity                   1000000 non-null  int64  \n",
      " 16  unit_price                 1000000 non-null  float64\n",
      " 17  discount_applied           1000000 non-null  float64\n",
      " 18  payment_method             1000000 non-null  object \n",
      " 19  store_location             1000000 non-null  object \n",
      " 20  transaction_hour           1000000 non-null  int64  \n",
      " 21  day_of_week                1000000 non-null  object \n",
      " 22  week_of_year               1000000 non-null  int64  \n",
      " 23  month_of_year              1000000 non-null  int64  \n",
      " 24  avg_purchase_value         1000000 non-null  float64\n",
      " 25  purchase_frequency         1000000 non-null  object \n",
      " 26  last_purchase_date         1000000 non-null  object \n",
      " 27  avg_discount_used          1000000 non-null  float64\n",
      " 28  preferred_store            1000000 non-null  object \n",
      " 29  online_purchases           1000000 non-null  int64  \n",
      " 30  in_store_purchases         1000000 non-null  int64  \n",
      " 31  avg_items_per_transaction  1000000 non-null  float64\n",
      " 32  avg_transaction_value      1000000 non-null  float64\n",
      " 33  total_returned_items       1000000 non-null  int64  \n",
      " 34  total_returned_value       1000000 non-null  float64\n",
      " 35  total_sales                1000000 non-null  float64\n",
      " 36  total_transactions         1000000 non-null  int64  \n",
      " 37  total_items_purchased      1000000 non-null  int64  \n",
      " 38  total_discounts_received   1000000 non-null  float64\n",
      " 39  avg_spent_per_category     1000000 non-null  float64\n",
      " 40  max_single_purchase_value  1000000 non-null  float64\n",
      " 41  min_single_purchase_value  1000000 non-null  float64\n",
      " 42  product_name               1000000 non-null  object \n",
      " 43  product_brand              1000000 non-null  object \n",
      " 44  product_rating             1000000 non-null  float64\n",
      " 45  product_review_count       1000000 non-null  int64  \n",
      " 46  product_stock              1000000 non-null  int64  \n",
      " 47  product_return_rate        1000000 non-null  float64\n",
      " 48  product_size               1000000 non-null  object \n",
      " 49  product_weight             1000000 non-null  float64\n",
      " 50  product_color              1000000 non-null  object \n",
      " 51  product_material           1000000 non-null  object \n",
      " 52  product_manufacture_date   1000000 non-null  object \n",
      " 53  product_expiry_date        1000000 non-null  object \n",
      " 54  product_shelf_life         1000000 non-null  int64  \n",
      " 55  promotion_id               1000000 non-null  int64  \n",
      " 56  promotion_type             1000000 non-null  object \n",
      " 57  promotion_start_date       1000000 non-null  object \n",
      " 58  promotion_end_date         1000000 non-null  object \n",
      " 59  promotion_effectiveness    1000000 non-null  object \n",
      " 60  promotion_channel          1000000 non-null  object \n",
      " 61  promotion_target_audience  1000000 non-null  object \n",
      " 62  customer_zip_code          1000000 non-null  int64  \n",
      " 63  customer_city              1000000 non-null  object \n",
      " 64  customer_state             1000000 non-null  object \n",
      " 65  store_zip_code             1000000 non-null  int64  \n",
      " 66  store_city                 1000000 non-null  object \n",
      " 67  store_state                1000000 non-null  object \n",
      " 68  distance_to_store          1000000 non-null  float64\n",
      " 69  holiday_season             1000000 non-null  object \n",
      " 70  season                     1000000 non-null  object \n",
      " 71  weekend                    1000000 non-null  object \n",
      " 72  customer_support_calls     1000000 non-null  int64  \n",
      " 73  email_subscriptions        1000000 non-null  object \n",
      " 74  app_usage                  1000000 non-null  object \n",
      " 75  website_visits             1000000 non-null  int64  \n",
      " 76  social_media_engagement    1000000 non-null  object \n",
      " 77  days_since_last_purchase   1000000 non-null  int64  \n",
      "dtypes: float64(16), int64(24), object(38)\n",
      "memory usage: 595.1+ MB\n"
     ]
    }
   ],
   "source": [
    "df.info()"
   ]
  },
  {
   "cell_type": "markdown",
   "id": "7f381a9b-665e-44d8-a1ad-57781e9c9ffd",
   "metadata": {},
   "source": [
    "##### Изучим за какой период предоставлены данные"
   ]
  },
  {
   "cell_type": "code",
   "execution_count": 49,
   "id": "e66229d2-1f5e-4ca4-82f5-2c372bc11fe0",
   "metadata": {},
   "outputs": [
    {
     "data": {
      "text/plain": [
       "'2020-01-01 00:00:21'"
      ]
     },
     "metadata": {},
     "output_type": "display_data"
    },
    {
     "data": {
      "text/plain": [
       "'2021-12-31 23:58:32'"
      ]
     },
     "execution_count": 49,
     "metadata": {},
     "output_type": "execute_result"
    }
   ],
   "source": [
    "display(df.transaction_date.min())\n",
    "df.transaction_date.max()"
   ]
  },
  {
   "cell_type": "markdown",
   "id": "cef6ba27-4c53-490f-b1da-d103515217f8",
   "metadata": {},
   "source": [
    "##### Кажется логичным изучение с группировкой по пользователю, его характеристикам и активностям\n",
    "Проверим пользователей на уникальность"
   ]
  },
  {
   "cell_type": "code",
   "execution_count": 41,
   "id": "bc43cbdc-9422-402f-9e0d-82326aaae6f3",
   "metadata": {},
   "outputs": [
    {
     "data": {
      "text/plain": [
       "1000000"
      ]
     },
     "metadata": {},
     "output_type": "display_data"
    },
    {
     "data": {
      "text/plain": [
       "1000000"
      ]
     },
     "execution_count": 41,
     "metadata": {},
     "output_type": "execute_result"
    }
   ],
   "source": [
    "display(df.shape[0])\n",
    "df['customer_id'].nunique()"
   ]
  },
  {
   "cell_type": "markdown",
   "id": "bfb42054-2b73-4390-adb9-598cd9548cbe",
   "metadata": {},
   "source": [
    "#### Получаем нереалистичную ситуацию, когда за период в два года все пользователи уникальны (при этом у них есть данные об их историческом поведении)\n",
    "\n",
    "Таким образом, делаем вывод, что скорее всего в данных ошибка и столбец customer_id заполнен автоматически.\n",
    "\n",
    "\n",
    "Другой возможный вариант - по каждому из юзеров выбрана одна из транзакций (логика такого выбора неизвестна). В случае, если такая ситуация произошла бы в рабочем процессе данный вопрос требовал бы изучения до продалжения работы с данными. В текущей ситуации делаем вывод, что столбец не имеет для изучения смысла и далеее проводим исследования без применения customer_id"
   ]
  },
  {
   "cell_type": "markdown",
   "id": "5fffb3e3-4193-464a-961e-5b55de8124cb",
   "metadata": {},
   "source": [
    "#### Проверим оставшиеся данные на уникальность"
   ]
  },
  {
   "cell_type": "code",
   "execution_count": 47,
   "id": "8872c584-945e-45b3-a767-fc8149a9770c",
   "metadata": {},
   "outputs": [
    {
     "data": {
      "text/plain": [
       "'для столбца customer_id все данные различаются, этот столбец не имеет смысла для дальнейшего исследования'"
      ]
     },
     "metadata": {},
     "output_type": "display_data"
    }
   ],
   "source": [
    "num_columns = df.shape[0]\n",
    "\n",
    "for element in df.columns:\n",
    "    if df[element].nunique() == num_columns:\n",
    "        display(f'для столбца {element} все данные различаются, этот столбец не имеет смысла для дальнейшего исследования')"
   ]
  },
  {
   "cell_type": "markdown",
   "id": "e78d0554-d274-4520-a48c-04391f7faffc",
   "metadata": {},
   "source": [
    "По остальным признакам (столбцам) ситуация отличается от customer_id, то есть можем предположить, что данные несут смысловую нагрузку."
   ]
  },
  {
   "cell_type": "markdown",
   "id": "371c7f2b-4016-44fb-85ed-3a0ab4eec946",
   "metadata": {},
   "source": [
    "#### В общей сложности в данных имеет 78 колонок признаков объектов."
   ]
  },
  {
   "cell_type": "markdown",
   "id": "e995a0f1-5fed-453d-af40-4cccce7f1b55",
   "metadata": {},
   "source": [
    "Данные можно условно разделить на данные, относящиеся:\n",
    "\n",
    "- непосредственно к покупателю (см. ниже customer_columns)\n",
    "- к покупкам(транзакциям), магазинам и маркетинговым активностям (см. ниже sale_transactions_columns)\n",
    "- к поведению покупателя и его предпочтениях (см. ниже customer_activity_columns)\n",
    "- маркетиноговой активности (см. ниже promotion_columns)"
   ]
  },
  {
   "cell_type": "markdown",
   "id": "666e3284-6c2f-4c11-afb6-2de164b1d94d",
   "metadata": {},
   "source": [
    "### Принимая во внимание, что:\n",
    "##### цель работы исследование данных,\n",
    "##### что исследовать и визуализировать 78 колонок единовремменно не конструктивно\n",
    "##### что часть данных повторяется многократно (например данные потребителя).\n"
   ]
  },
  {
   "cell_type": "markdown",
   "id": "dabb3fb1-6d97-47a3-93d6-7e3a6753b1d2",
   "metadata": {},
   "source": [
    "### Принято решение разбить данные на отдельные логически самостоятельные датасеты и изучать их по отдельности\n",
    "\n",
    "Примечания:\n",
    "- по мере и в случае необходимости, данные из одного датасета будут обогащаться доп данными из других. Чтобы не перегружать оперативную память,\n",
    "- по каждому разделу датасеты будут создаваться перед непосредственным исследованием с принудительной очисткой сборщиком мусора всех неиспользуемых переменных (данных)"
   ]
  },
  {
   "cell_type": "code",
   "execution_count": 50,
   "id": "609c5722-70cf-48cf-a182-31516edb9652",
   "metadata": {},
   "outputs": [
    {
     "data": {
      "text/plain": [
       "{'customer_id'}"
      ]
     },
     "execution_count": 50,
     "metadata": {},
     "output_type": "execute_result"
    }
   ],
   "source": [
    "customer_columns = [\n",
    "    'age', 'gender', 'income_bracket','loyalty_program',\n",
    "    'membership_years', 'churned', 'marital_status', 'number_of_children',\n",
    "    'education_level', 'occupation', 'customer_city', 'customer_state', 'customer_zip_code' \n",
    "       \n",
    "    \n",
    "]\n",
    "sale_transactions_columns = [\n",
    "    'transaction_id', 'transaction_date','product_id', 'product_category',\n",
    "    'quantity', 'unit_price', 'discount_applied', 'payment_method', 'store_location',\n",
    "    'transaction_hour', 'day_of_week', 'week_of_year', 'month_of_year', 'last_purchase_date',\n",
    "    'product_name', 'product_brand', 'product_rating', 'product_review_count', 'product_stock', \n",
    "    'product_return_rate', 'product_size', 'product_weight', 'product_color', 'product_material',\n",
    "    'product_manufacture_date', 'product_expiry_date', 'product_shelf_life', 'promotion_id',\n",
    "    'distance_to_store',  'holiday_season', 'season', 'weekend', 'days_since_last_purchase',\n",
    "    'store_zip_code', 'store_city', 'store_state',\n",
    "]\n",
    "\n",
    "\n",
    "customer_activity_columns = [\n",
    "    'avg_purchase_value', 'purchase_frequency', 'avg_discount_used', 'preferred_store', 'online_purchases',\n",
    "    'in_store_purchases', 'avg_items_per_transaction', 'avg_transaction_value', 'total_returned_items',\n",
    "    'total_returned_value', 'total_sales', 'total_transactions', 'total_items_purchased', \n",
    "    'total_discounts_received', 'avg_spent_per_category', 'max_single_purchase_value', 'min_single_purchase_value',\n",
    "    'customer_support_calls', 'email_subscriptions', 'app_usage', 'website_visits', 'social_media_engagement',\n",
    "]\n",
    "\n",
    "promotion_columns = [\n",
    "    'promotion_id', 'promotion_type', 'promotion_start_date',\n",
    "    'promotion_end_date', 'promotion_effectiveness', 'promotion_channel',\n",
    "    'promotion_target_audience',\n",
    "    \n",
    "]\n",
    "\n",
    "\n",
    "# проверим, что ничего не потеряли\n",
    "new_columns = set(customer_columns + sale_transactions_columns + customer_activity_columns + promotion_columns)\n",
    "\n",
    "\n",
    "set(df.columns) - new_columns \n"
   ]
  },
  {
   "cell_type": "markdown",
   "id": "168ee9af-35cd-43a0-9663-8af21c030060",
   "metadata": {},
   "source": [
    "#### На данном этапе:\n",
    "- разделили данные на 4 условно самостоятельных кластера\n",
    "- проверили, что  остальные данные имеют признаки смысловой нагрузки\n",
    "- приняли решение, что более подробно будем изучать признаки по столбцам в разделенных датасетах"
   ]
  },
  {
   "cell_type": "markdown",
   "id": "8a21f791-beef-4b7f-8cda-bb94e51c6184",
   "metadata": {},
   "source": [
    "# 3 "
   ]
  },
  {
   "cell_type": "markdown",
   "id": "88d03397-f958-4ea8-8ed3-f6373c3f6484",
   "metadata": {},
   "source": [
    "# Изучение разделенных данных"
   ]
  },
  {
   "cell_type": "markdown",
   "id": "47e20d2e-fb58-4543-a4f3-76efaf89126f",
   "metadata": {},
   "source": [
    "## 3.1\n",
    "\n",
    "[CONTENT](#CONTENT)<br>"
   ]
  },
  {
   "cell_type": "markdown",
   "id": "859b5509-7ff2-459a-a315-004568141802",
   "metadata": {},
   "source": [
    "## Изучение данных о потребителях"
   ]
  },
  {
   "cell_type": "markdown",
   "id": "5eb9aba9-669c-4788-b1e8-18a25ee57e0b",
   "metadata": {},
   "source": [
    "Подготовим датасет с данными потребителей"
   ]
  },
  {
   "cell_type": "code",
   "execution_count": 51,
   "id": "b98ec089-db10-4592-bca5-2401052be344",
   "metadata": {},
   "outputs": [
    {
     "data": {
      "text/html": [
       "<div>\n",
       "<style scoped>\n",
       "    .dataframe tbody tr th:only-of-type {\n",
       "        vertical-align: middle;\n",
       "    }\n",
       "\n",
       "    .dataframe tbody tr th {\n",
       "        vertical-align: top;\n",
       "    }\n",
       "\n",
       "    .dataframe thead th {\n",
       "        text-align: right;\n",
       "    }\n",
       "</style>\n",
       "<table border=\"1\" class=\"dataframe\">\n",
       "  <thead>\n",
       "    <tr style=\"text-align: right;\">\n",
       "      <th></th>\n",
       "      <th>customer_id</th>\n",
       "      <th>age</th>\n",
       "      <th>gender</th>\n",
       "      <th>income_bracket</th>\n",
       "      <th>loyalty_program</th>\n",
       "      <th>membership_years</th>\n",
       "      <th>churned</th>\n",
       "      <th>marital_status</th>\n",
       "      <th>number_of_children</th>\n",
       "      <th>education_level</th>\n",
       "      <th>occupation</th>\n",
       "      <th>customer_city</th>\n",
       "      <th>customer_state</th>\n",
       "      <th>customer_zip_code</th>\n",
       "    </tr>\n",
       "  </thead>\n",
       "  <tbody>\n",
       "    <tr>\n",
       "      <th>0</th>\n",
       "      <td>1</td>\n",
       "      <td>56</td>\n",
       "      <td>Other</td>\n",
       "      <td>High</td>\n",
       "      <td>No</td>\n",
       "      <td>0</td>\n",
       "      <td>No</td>\n",
       "      <td>Divorced</td>\n",
       "      <td>3</td>\n",
       "      <td>Bachelor's</td>\n",
       "      <td>Self-Employed</td>\n",
       "      <td>City D</td>\n",
       "      <td>State Y</td>\n",
       "      <td>37848</td>\n",
       "    </tr>\n",
       "    <tr>\n",
       "      <th>1</th>\n",
       "      <td>2</td>\n",
       "      <td>69</td>\n",
       "      <td>Female</td>\n",
       "      <td>Medium</td>\n",
       "      <td>No</td>\n",
       "      <td>2</td>\n",
       "      <td>No</td>\n",
       "      <td>Married</td>\n",
       "      <td>2</td>\n",
       "      <td>PhD</td>\n",
       "      <td>Unemployed</td>\n",
       "      <td>City A</td>\n",
       "      <td>State X</td>\n",
       "      <td>44896</td>\n",
       "    </tr>\n",
       "    <tr>\n",
       "      <th>2</th>\n",
       "      <td>3</td>\n",
       "      <td>46</td>\n",
       "      <td>Female</td>\n",
       "      <td>Low</td>\n",
       "      <td>No</td>\n",
       "      <td>5</td>\n",
       "      <td>No</td>\n",
       "      <td>Married</td>\n",
       "      <td>3</td>\n",
       "      <td>Bachelor's</td>\n",
       "      <td>Self-Employed</td>\n",
       "      <td>City B</td>\n",
       "      <td>State X</td>\n",
       "      <td>11816</td>\n",
       "    </tr>\n",
       "    <tr>\n",
       "      <th>3</th>\n",
       "      <td>4</td>\n",
       "      <td>32</td>\n",
       "      <td>Female</td>\n",
       "      <td>Low</td>\n",
       "      <td>No</td>\n",
       "      <td>0</td>\n",
       "      <td>No</td>\n",
       "      <td>Divorced</td>\n",
       "      <td>2</td>\n",
       "      <td>Master's</td>\n",
       "      <td>Employed</td>\n",
       "      <td>City A</td>\n",
       "      <td>State Y</td>\n",
       "      <td>78604</td>\n",
       "    </tr>\n",
       "    <tr>\n",
       "      <th>4</th>\n",
       "      <td>5</td>\n",
       "      <td>60</td>\n",
       "      <td>Female</td>\n",
       "      <td>Low</td>\n",
       "      <td>Yes</td>\n",
       "      <td>7</td>\n",
       "      <td>Yes</td>\n",
       "      <td>Divorced</td>\n",
       "      <td>2</td>\n",
       "      <td>Bachelor's</td>\n",
       "      <td>Employed</td>\n",
       "      <td>City B</td>\n",
       "      <td>State Z</td>\n",
       "      <td>17760</td>\n",
       "    </tr>\n",
       "  </tbody>\n",
       "</table>\n",
       "</div>"
      ],
      "text/plain": [
       "   customer_id  age  gender income_bracket loyalty_program  membership_years  \\\n",
       "0            1   56   Other           High              No                 0   \n",
       "1            2   69  Female         Medium              No                 2   \n",
       "2            3   46  Female            Low              No                 5   \n",
       "3            4   32  Female            Low              No                 0   \n",
       "4            5   60  Female            Low             Yes                 7   \n",
       "\n",
       "  churned marital_status  number_of_children education_level     occupation  \\\n",
       "0      No       Divorced                   3      Bachelor's  Self-Employed   \n",
       "1      No        Married                   2             PhD     Unemployed   \n",
       "2      No        Married                   3      Bachelor's  Self-Employed   \n",
       "3      No       Divorced                   2        Master's       Employed   \n",
       "4     Yes       Divorced                   2      Bachelor's       Employed   \n",
       "\n",
       "  customer_city customer_state  customer_zip_code  \n",
       "0        City D        State Y              37848  \n",
       "1        City A        State X              44896  \n",
       "2        City B        State X              11816  \n",
       "3        City A        State Y              78604  \n",
       "4        City B        State Z              17760  "
      ]
     },
     "execution_count": 51,
     "metadata": {},
     "output_type": "execute_result"
    }
   ],
   "source": [
    "df = pd.read_csv('../data/retail_data.csv.zip')\n",
    "сustomers_df = df[customer_columns].drop_duplicates().reset_index(drop=True)\n",
    "\n",
    "# Удалим исходный df и освободим память вызвав сборщик мусора\n",
    "del df\n",
    "gc.collect()\n",
    "\n",
    "customers_df.head()"
   ]
  },
  {
   "cell_type": "code",
   "execution_count": 54,
   "id": "348166d6-489d-47b2-bcd6-cf9ddd2581ff",
   "metadata": {},
   "outputs": [
    {
     "name": "stdout",
     "output_type": "stream",
     "text": [
      "<class 'pandas.core.frame.DataFrame'>\n",
      "RangeIndex: 1000000 entries, 0 to 999999\n",
      "Data columns (total 14 columns):\n",
      " #   Column              Non-Null Count    Dtype \n",
      "---  ------              --------------    ----- \n",
      " 0   customer_id         1000000 non-null  int64 \n",
      " 1   age                 1000000 non-null  int64 \n",
      " 2   gender              1000000 non-null  object\n",
      " 3   income_bracket      1000000 non-null  object\n",
      " 4   loyalty_program     1000000 non-null  object\n",
      " 5   membership_years    1000000 non-null  int64 \n",
      " 6   churned             1000000 non-null  object\n",
      " 7   marital_status      1000000 non-null  object\n",
      " 8   number_of_children  1000000 non-null  int64 \n",
      " 9   education_level     1000000 non-null  object\n",
      " 10  occupation          1000000 non-null  object\n",
      " 11  customer_city       1000000 non-null  object\n",
      " 12  customer_state      1000000 non-null  object\n",
      " 13  customer_zip_code   1000000 non-null  int64 \n",
      "dtypes: int64(5), object(9)\n",
      "memory usage: 106.8+ MB\n"
     ]
    }
   ],
   "source": [
    "customers_df.info()"
   ]
  },
  {
   "cell_type": "markdown",
   "id": "3514ec7e-3d0b-4076-8b3c-5536a51ba467",
   "metadata": {},
   "source": []
  },
  {
   "cell_type": "markdown",
   "id": "295afff9-0242-4d7c-9e42-ca484fc367ac",
   "metadata": {},
   "source": []
  },
  {
   "cell_type": "markdown",
   "id": "b75c437e-d366-49f5-8f6a-6a46b8258088",
   "metadata": {},
   "source": [
    "# LINKS\n",
    "\n",
    "[CONTENT](#CONTENT)<br>"
   ]
  },
  {
   "cell_type": "markdown",
   "id": "f4edea75-53a4-4d78-8ed1-460c87836558",
   "metadata": {},
   "source": []
  }
 ],
 "metadata": {
  "kernelspec": {
   "display_name": "Python 3.11 (py_311)",
   "language": "python",
   "name": "py_311"
  },
  "language_info": {
   "codemirror_mode": {
    "name": "ipython",
    "version": 3
   },
   "file_extension": ".py",
   "mimetype": "text/x-python",
   "name": "python",
   "nbconvert_exporter": "python",
   "pygments_lexer": "ipython3",
   "version": "3.11.0"
  }
 },
 "nbformat": 4,
 "nbformat_minor": 5
}
